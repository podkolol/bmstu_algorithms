{
 "cells": [
  {
   "cell_type": "markdown",
   "id": "0e689d5e-a96a-4b73-8c3a-21c5afc8b20a",
   "metadata": {},
   "source": [
    "# Лабораторная работа №5"
   ]
  },
  {
   "cell_type": "markdown",
   "id": "e91f8719-c4da-4e6b-9d25-3ea15b9e2c6e",
   "metadata": {},
   "source": [
    "### 1. Хеш-функции\n",
    "\n",
    "**Хеш-функция** — это функция, которая преобразует входные данные произвольного размера (например, строки или числа) в фиксированный размер (обычно число). Хеш-функции часто используются для хранения данных в хеш-таблицах и должны обладать следующими свойствами:\n",
    "\n",
    "- **Детерминированность**: для одного и того же входа всегда возвращается одно и то же значение.\n",
    "- **Быстрое выполнение**: функция должна работать за константное время.\n",
    "- **Минимизация коллизий**: желательно, чтобы разные входные данные имели разные хеш-значения.\n",
    "- **Равномерное распределение**: результат работы функции должен быть равномерно распределен по диапазону возможных значений.\n",
    "\n",
    "Примеры хеш-функций:\n",
    "- CRC32\n",
    "- MD5\n",
    "- SHA-1 и SHA-256\n",
    "\n",
    "### 2. Хеш-таблицы\n",
    "\n",
    "**Хеш-таблица** — это структура данных, которая использует хеш-функцию для маппинга ключей на индексы в массиве. Основное назначение хеш-таблицы — это хранение данных с быстрым доступом, добавлением и удалением за амортизированное константное время \\(O(1)\\), если хеш-функция хорошо справляется с распределением ключей.\n",
    "\n",
    "Хеш-таблицы состоят из:\n",
    "- **Массивов** для хранения значений.\n",
    "- **Хеш-функций** для вычисления индексов, по которым размещаются данные.\n",
    "\n",
    "#### Основные операции над хеш-таблицами:\n",
    "1. **Вставка (Insert)**: добавление нового ключа-значения. Вычисляется хеш от ключа, и элемент помещается в соответствующую ячейку массива. При коллизии (если два разных ключа попадают в один и тот же индекс) используются методы разрешения коллизий.\n",
    "  \n",
    "2. **Поиск (Search)**: нахождение значения по ключу. Вычисляется хеш-значение для ключа, после чего производится проверка ячейки на наличие нужного ключа.\n",
    "  \n",
    "3. **Удаление (Delete)**: удаление пары ключ-значение по ключу. Вычисляется индекс, проверяется наличие ключа, после чего элемент удаляется из таблицы.\n",
    "\n",
    "### 3. Методы разрешения коллизий\n",
    "\n",
    "Коллизии возникают, когда хеш-функция возвращает одинаковое значение для двух различных ключей. Основные методы разрешения коллизий:\n",
    "- **Открытая адресация**: при коллизии алгоритм ищет следующий свободный слот. Наиболее распространенные методы — линейное, квадратичное и двойное хеширование.\n",
    "- **Цепочки (Chaining)**: каждый индекс массива содержит связный список. Если для одного индекса имеется несколько ключей, то они добавляются в связный список.\n",
    "\n",
    "### Преимущества и недостатки хеш-таблиц\n",
    "\n",
    "**Преимущества**:\n",
    "- Очень высокая скорость доступа к данным.\n",
    "- Простота реализации и эффективное использование памяти.\n",
    "\n",
    "**Недостатки**:\n",
    "- Потенциальные проблемы с коллизиями, которые могут снизить производительность.\n",
    "- Зависимость от качества хеш-функции и методов разрешения коллизий.\n",
    "\n",
    "Изучение хеш-функций и хеш-таблиц предоставляет мощные инструменты для оптимизации программ, так как позволяет хранить и извлекать данные с минимальными затратами по времени.\n",
    "\n",
    "---"
   ]
  },
  {
   "cell_type": "markdown",
   "id": "c66eac7c-04d4-48c8-b30d-d93ef3995e3a",
   "metadata": {},
   "source": [
    "# Задача 1: Реализовать хеш-таблицу на основе цепочек (Chaining)"
   ]
  },
  {
   "cell_type": "code",
   "execution_count": 1,
   "id": "6cc15c96-0d73-41ad-b05f-19b7bcd69f5a",
   "metadata": {},
   "outputs": [],
   "source": [
    "class ChainingHashTable:\n",
    "    def __init__(self, size):\n",
    "        self.size = size\n",
    "        self.table = [[] for _ in range(size)]\n",
    "\n",
    "    def hash_function(self, key):\n",
    "        return hash(key) % self.size\n",
    "\n",
    "    def insert(self, key, value):\n",
    "        index = self.hash_function(key)\n",
    "        for pair in self.table[index]:\n",
    "            if pair[0] == key:\n",
    "                pair[1] = value  # Обновление значения\n",
    "                return\n",
    "        self.table[index].append([key, value])\n",
    "\n",
    "    def get(self, key):\n",
    "        index = self.hash_function(key)\n",
    "        for pair in self.table[index]:\n",
    "            if pair[0] == key:\n",
    "                return pair[1]\n",
    "        return None\n",
    "\n",
    "    def delete(self, key):\n",
    "        index = self.hash_function(key)\n",
    "        for i, pair in enumerate(self.table[index]):\n",
    "            if pair[0] == key:\n",
    "                del self.table[index][i]\n",
    "                return True\n",
    "        return False\n"
   ]
  },
  {
   "cell_type": "markdown",
   "id": "2aecd489-6a97-465f-90d7-00b1c752fc9b",
   "metadata": {},
   "source": [
    "# Задача 2: Реализовать хеш-таблицу на основе открытой адресации"
   ]
  },
  {
   "cell_type": "code",
   "execution_count": null,
   "id": "8be6f56f-3e44-4b6d-8002-9451e12350a4",
   "metadata": {},
   "outputs": [],
   "source": [
    "class OpenAddressingHashTable:\n",
    "    def __init__(self, size):\n",
    "        self.size = size\n",
    "        self.table = [None] * size\n",
    "\n",
    "    def hash_function(self, key):\n",
    "        return hash(key) % self.size\n",
    "\n",
    "    def insert(self, key, value):\n",
    "        index = self.hash_function(key)\n",
    "        start_index = index\n",
    "        while self.table[index] is not None:\n",
    "            if self.table[index][0] == key:\n",
    "                self.table[index] = (key, value)  # Обновление значения\n",
    "                return\n",
    "            index = (index + 1) % self.size\n",
    "            if index == start_index:\n",
    "                raise Exception(\"Hash table is full\")\n",
    "        self.table[index] = (key, value)\n",
    "\n",
    "    def get(self, key):\n",
    "        index = self.hash_function(key)\n",
    "        start_index = index\n",
    "        while self.table[index] is not None:\n",
    "            if self.table[index][0] == key:\n",
    "                return self.table[index][1]\n",
    "            index = (index + 1) % self.size\n",
    "            if index == start_index:\n",
    "                break\n",
    "        return None\n",
    "\n",
    "    def delete(self, key):\n",
    "        index = self.hash_function(key)\n",
    "        start_index = index\n",
    "        while self.table[index] is not None:\n",
    "            if self.table[index][0] == key:\n",
    "                self.table[index] = None\n",
    "                return True\n",
    "            index = (index + 1) % self.size\n",
    "            if index == start_index:\n",
    "                break\n",
    "        return False\n"
   ]
  },
  {
   "cell_type": "markdown",
   "id": "feea8802-612d-4745-9774-96ba408d0b7f",
   "metadata": {},
   "source": [
    "# Задача 3: Блокчейн"
   ]
  },
  {
   "cell_type": "code",
   "execution_count": null,
   "id": "69e7d0dc-b501-4c83-865a-9639b52c4d8e",
   "metadata": {},
   "outputs": [],
   "source": [
    "import hashlib\n",
    "\n",
    "class Block:\n",
    "    def __init__(self, index, previous_hash, data):\n",
    "        self.index = index\n",
    "        self.previous_hash = previous_hash\n",
    "        self.data = data\n",
    "        self.hash = self.compute_hash()\n",
    "\n",
    "    def compute_hash(self):\n",
    "        block_string = f\"{self.index}{self.previous_hash}{self.data}\"\n",
    "        return hashlib.sha256(block_string.encode()).hexdigest()\n",
    "\n",
    "class Blockchain:\n",
    "    def __init__(self):\n",
    "        self.chain = []\n",
    "        self.create_block(data=\"Genesis Block\", previous_hash=\"0\")\n",
    "\n",
    "    def create_block(self, data, previous_hash):\n",
    "        index = len(self.chain)\n",
    "        new_block = Block(index, previous_hash, data)\n",
    "        self.chain.append(new_block)\n",
    "        return new_block\n",
    "\n",
    "    def get_last_block(self):\n",
    "        return self.chain[-1] if self.chain else None\n",
    "\n",
    "    def add_block(self, data):\n",
    "        last_block = self.get_last_block()\n",
    "        previous_hash = last_block.hash if last_block else \"0\"\n",
    "        new_block = self.create_block(data, previous_hash)\n",
    "        return new_block\n"
   ]
  },
  {
   "cell_type": "markdown",
   "id": "26991b12-03ea-43fc-b453-72ed6b5cf2c2",
   "metadata": {},
   "source": [
    "# Задача 4: Проверка пересечения двух массивов"
   ]
  },
  {
   "cell_type": "code",
   "execution_count": null,
   "id": "025753cb-7779-4f4f-a94c-677e74d93486",
   "metadata": {},
   "outputs": [],
   "source": [
    "def has_intersection(arr1, arr2):\n",
    "    elements = set(arr1)\n",
    "    for num in arr2:\n",
    "        if num in elements:\n",
    "            return True\n",
    "    return False\n"
   ]
  },
  {
   "cell_type": "markdown",
   "id": "4b8496d6-db75-4e80-9b77-68a2654684d4",
   "metadata": {},
   "source": [
    "# Задача 5: Проверка уникальности элементов в массиве"
   ]
  },
  {
   "cell_type": "code",
   "execution_count": null,
   "id": "27c28e81-5e14-462f-9090-30cfdef64962",
   "metadata": {},
   "outputs": [],
   "source": [
    "def all_unique(arr):\n",
    "    seen = set()\n",
    "    for num in arr:\n",
    "        if num in seen:\n",
    "            return False\n",
    "        seen.add(num)\n",
    "    return True\n"
   ]
  },
  {
   "cell_type": "markdown",
   "id": "a85a9a91-4a10-4645-bef4-ec037ca23980",
   "metadata": {},
   "source": [
    "# Задача 6: Нахождение пар с заданной суммой"
   ]
  },
  {
   "cell_type": "code",
   "execution_count": null,
   "id": "cd8d4887-77f6-4e5d-9220-da570a679192",
   "metadata": {},
   "outputs": [],
   "source": [
    "def find_pairs_with_sum(arr, target_sum):\n",
    "    result = []\n",
    "    seen = set()\n",
    "    for num in arr:\n",
    "        complement = target_sum - num\n",
    "        if complement in seen:\n",
    "            result.append((complement, num))\n",
    "        seen.add(num)\n",
    "    return result\n"
   ]
  },
  {
   "cell_type": "markdown",
   "id": "351a31b8-b496-473a-bd9f-e8573aed19ef",
   "metadata": {},
   "source": [
    "# Задача 7: Проверка анаграмм"
   ]
  },
  {
   "cell_type": "code",
   "execution_count": null,
   "id": "26454900-8e57-4027-916e-0b76a1fbdb4a",
   "metadata": {},
   "outputs": [],
   "source": [
    "def are_anagrams(str1, str2):\n",
    "    if len(str1) != len(str2):\n",
    "        return False\n",
    "    count1, count2 = {}, {}\n",
    "    for char in str1:\n",
    "        count1[char] = count1.get(char, 0) + 1\n",
    "    for char in str2:\n",
    "        count2[char] = count2.get(char, 0) + 1\n",
    "    return count1 == count2\n"
   ]
  },
  {
   "cell_type": "markdown",
   "id": "e7f6d92f-cd9a-4c2d-ba25-82b286d82a2e",
   "metadata": {},
   "source": [
    "# Ответы на контрольные вопросы:\n",
    "\n",
    "---\n",
    "\n",
    "### 1. Назначение хеширования\n",
    "\n",
    "Хеширование — это процесс преобразования данных (например, строки, числа или других объектов) в фиксированный размер хеш-значения, которое служит уникальным \"идентификатором\" этих данных. Основные цели и задачи хеширования:\n",
    "- **Эффективный доступ к данным**: Позволяет организовать быстрый доступ к данным в хеш-таблице, где поиск, добавление и удаление элементов может выполняться за время \\(O(1)\\) в среднем.\n",
    "- **Сравнение данных**: Ускоряет операции сравнения больших объемов данных, так как их можно сравнивать по хеш-значениям.\n",
    "- **Целостность данных**: Хеширование помогает проверять целостность данных, что широко используется, например, в криптографии и блокчейне для проверки подлинности и защиты от подделок.\n",
    "\n",
    "### 2. Способы реализации хеш-функций и хеш-таблиц\n",
    "\n",
    "**Хеш-функция** — это функция, которая преобразует входные данные в хеш-значение (целое число, обычно фиксированной длины). Способы реализации хеш-функций:\n",
    "- **Деление по модулю**: Хеш-значение вычисляется как остаток от деления на размер таблицы. Пример: `h(x) = x % N`, где `N` — размер хеш-таблицы.\n",
    "- **Метод умножения**: Входное значение умножается на константу, и дробная часть результата используется для определения индекса.\n",
    "- **Сложение и битовые сдвиги**: Входные данные обрабатываются побитово с использованием операций сдвига и XOR, что дает равномерное распределение.\n",
    "- **Криптографические хеш-функции**: Такие функции, как SHA-256, создают уникальные хеши для защищенных операций. Они устойчивы к коллизиям, но работают медленнее.\n",
    "\n",
    "**Хеш-таблицы** — структуры данных для хранения пар \"ключ-значение\". Основные методы реализации:\n",
    "- **Метод цепочек**: Для каждой позиции таблицы создается список (цепочка), где хранятся все элементы с одинаковым хеш-значением.\n",
    "- **Открытая адресация**: Если место занято, используется альтернативный индекс для поиска свободного места (линейное пробирование, квадратичное пробирование и двойное хеширование).\n",
    "\n",
    "### 3. Понятие коллизии\n",
    "\n",
    "**Коллизия** — это ситуация, когда хеш-функция сопоставляет разные ключи с одним и тем же индексом (хеш-значением) в хеш-таблице. Коллизии неизбежны, так как количество возможных ключей обычно намного больше, чем размер хеш-таблицы. Правильное разрешение коллизий — важная задача при проектировании хеш-таблиц.\n",
    "\n",
    "### 4. Варианты разрешения коллизий в хеш-таблице\n",
    "\n",
    "Существуют несколько способов разрешения коллизий:\n",
    "\n",
    "- **Метод цепочек (chaining)**: Каждая ячейка хеш-таблицы содержит указатель на список или связный список всех элементов, которые имеют один и тот же индекс. Если происходит коллизия, элемент добавляется в список по соответствующему индексу. Преимущество метода — возможность хранения неограниченного числа элементов, но при большом количестве коллизий скорость доступа к элементам снижается.\n",
    "\n",
    "- **Открытая адресация (open addressing)**: Все элементы хранятся непосредственно в массиве хеш-таблицы, и при коллизии производится поиск свободного места по определенному алгоритму. Существуют несколько методов:\n",
    "  - **Линейное пробирование**: если место занято, следующий элемент помещается на первую свободную ячейку, идущую подряд.\n",
    "  - **Квадратичное пробирование**: используется квадратное смещение (1, 4, 9, ...) для поиска свободной ячейки.\n",
    "  - **Двойное хеширование**: при коллизии вычисляется новое хеш-значение по другой хеш-функции.\n",
    "\n",
    "- **Кукушечное хеширование**: использует две или более хеш-функции. Если при добавлении возникает коллизия, элемент \"выбивает\" существующий элемент, и последний перемещается по другой хеш-функции.\n",
    "\n",
    "- **Рехеширование (rehashing)**: при достижении определенной загрузки таблицы (например, 70%) создается новая, более крупная хеш-таблица, и элементы копируются в нее с новыми индексами."
   ]
  },
  {
   "cell_type": "code",
   "execution_count": null,
   "id": "679eedc8-c456-48ed-8a85-70420a5ec630",
   "metadata": {},
   "outputs": [],
   "source": []
  }
 ],
 "metadata": {
  "kernelspec": {
   "display_name": "Python 3 (ipykernel)",
   "language": "python",
   "name": "python3"
  },
  "language_info": {
   "codemirror_mode": {
    "name": "ipython",
    "version": 3
   },
   "file_extension": ".py",
   "mimetype": "text/x-python",
   "name": "python",
   "nbconvert_exporter": "python",
   "pygments_lexer": "ipython3",
   "version": "3.9.13"
  }
 },
 "nbformat": 4,
 "nbformat_minor": 5
}
