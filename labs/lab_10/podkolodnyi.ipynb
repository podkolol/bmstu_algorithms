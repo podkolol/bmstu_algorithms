{
 "cells": [
  {
   "cell_type": "markdown",
   "id": "d7fc6817-8f9c-45b7-af5c-f49719033d55",
   "metadata": {},
   "source": [
    "# Лабораторная работа: Реализация алгоритмов из лекции 14\n",
    "# Подколодный Артём\n",
    "# Цель: Изучение и реализация алгоритмов на основе методов из лекции 14\n",
    "\n",
    "# --- Наивные методы ---\n",
    "\n",
    "## Проверка простоты числа (наивный метод)"
   ]
  },
  {
   "cell_type": "code",
   "execution_count": 1,
   "id": "e5a9e331-13cf-4d8e-ae47-045d377b8f92",
   "metadata": {},
   "outputs": [],
   "source": [
    "def is_prime_naive(n):\n",
    "    if n <= 1:\n",
    "        return False\n",
    "    for i in range(2, n):\n",
    "        if n % i == 0:\n",
    "            return False\n",
    "    return True"
   ]
  },
  {
   "cell_type": "markdown",
   "id": "4f7762af-f4f2-4f52-9b0d-449a9453e191",
   "metadata": {},
   "source": [
    "## Вычисление НОД (наивный метод)"
   ]
  },
  {
   "cell_type": "code",
   "execution_count": 2,
   "id": "547db9fb-c316-4b54-84fd-ac9df57f4312",
   "metadata": {},
   "outputs": [],
   "source": [
    "def gcd_naive(a, b):\n",
    "    gcd = 1\n",
    "    for i in range(1, min(a, b) + 1):\n",
    "        if a % i == 0 and b % i == 0:\n",
    "            gcd = i\n",
    "    return gcd"
   ]
  },
  {
   "cell_type": "markdown",
   "id": "c3df3e23-8f90-464a-a9a4-41368e1ffc6b",
   "metadata": {},
   "source": [
    "## Поиск подстроки в строке (наивный метод)"
   ]
  },
  {
   "cell_type": "code",
   "execution_count": null,
   "id": "371ec710-8b8d-414b-b8bb-28b37c29d58f",
   "metadata": {},
   "outputs": [],
   "source": [
    "def naive_search(text, pattern):\n",
    "    n, m = len(text), len(pattern)\n",
    "    for i in range(n - m + 1):\n",
    "        if text[i:i + m] == pattern:\n",
    "            return i\n",
    "    return -1\n"
   ]
  },
  {
   "cell_type": "markdown",
   "id": "c0cb32b1-ecec-40d9-adde-ca7923aef787",
   "metadata": {},
   "source": [
    "# --- Метод двух указателей ---"
   ]
  },
  {
   "cell_type": "markdown",
   "id": "bdc8fde0-842d-473d-9c46-abd998638adf",
   "metadata": {},
   "source": [
    "## Поиск двух чисел в массиве, сумма которых равна target"
   ]
  },
  {
   "cell_type": "code",
   "execution_count": null,
   "id": "00335c80-004f-4d09-bb98-e9d3d79c596f",
   "metadata": {},
   "outputs": [],
   "source": [
    "def two_sum_sorted(arr, target):\n",
    "    left, right = 0, len(arr) - 1\n",
    "    while left < right:\n",
    "        s = arr[left] + arr[right]\n",
    "        if s == target:\n",
    "            return left, right\n",
    "        elif s < target:\n",
    "            left += 1\n",
    "        else:\n",
    "            right -= 1\n",
    "    return None"
   ]
  },
  {
   "cell_type": "markdown",
   "id": "c261accb-9d51-46c3-96ab-1a9d2beb94d5",
   "metadata": {},
   "source": [
    "## Проверка палиндрома"
   ]
  },
  {
   "cell_type": "code",
   "execution_count": null,
   "id": "abd715f7-abd4-46e9-8bd9-f00ee71b6ab2",
   "metadata": {},
   "outputs": [],
   "source": [
    "def is_palindrome(s):\n",
    "    left, right = 0, len(s) - 1\n",
    "    while left < right:\n",
    "        if s[left] != s[right]:\n",
    "            return False\n",
    "        left += 1\n",
    "        right -= 1\n",
    "    return True"
   ]
  },
  {
   "cell_type": "markdown",
   "id": "5b9d5c67-73e4-4bbe-a907-53acb339390e",
   "metadata": {},
   "source": [
    "# --- Метод скользящего окна ---"
   ]
  },
  {
   "cell_type": "markdown",
   "id": "f81bd788-6772-427f-94c8-3948f35dd137",
   "metadata": {},
   "source": [
    "## Максимальная сумма подмассива фиксированного размера k"
   ]
  },
  {
   "cell_type": "code",
   "execution_count": null,
   "id": "d771083f-c273-45d4-b160-585f408e4d0d",
   "metadata": {},
   "outputs": [],
   "source": [
    "def max_sum_subarray(arr, k):\n",
    "    n = len(arr)\n",
    "    if n < k:\n",
    "        return -1\n",
    "    window_sum = sum(arr[:k])\n",
    "    max_sum = window_sum\n",
    "    for i in range(n - k):\n",
    "        window_sum = window_sum - arr[i] + arr[i + k]\n",
    "        max_sum = max(max_sum, window_sum)\n",
    "    return max_sum\n"
   ]
  },
  {
   "cell_type": "markdown",
   "id": "325f12bc-eaac-4326-bd11-0a6cf9de8184",
   "metadata": {},
   "source": [
    "# --- Динамическое программирование ---"
   ]
  },
  {
   "cell_type": "markdown",
   "id": "ef4df910-5913-4b0e-94c8-6957aa2f3432",
   "metadata": {},
   "source": [
    "## Задача о рюкзаке (0/1)"
   ]
  },
  {
   "cell_type": "code",
   "execution_count": null,
   "id": "73d177d4-f0df-4b2e-bcbb-1dd4237aa736",
   "metadata": {},
   "outputs": [],
   "source": [
    "def knapsack(weights, values, capacity):\n",
    "    n = len(weights)\n",
    "    dp = [[0] * (capacity + 1) for _ in range(n + 1)]\n",
    "    for i in range(1, n + 1):\n",
    "        for w in range(capacity + 1):\n",
    "            if weights[i - 1] <= w:\n",
    "                dp[i][w] = max(dp[i - 1][w], dp[i - 1][w - weights[i - 1]] + values[i - 1])\n",
    "            else:\n",
    "                dp[i][w] = dp[i - 1][w]\n",
    "    return dp[n][capacity]"
   ]
  },
  {
   "cell_type": "markdown",
   "id": "2c4dbae6-2ae2-4f1d-8120-491f1bfc51fd",
   "metadata": {},
   "source": [
    "## Размен монет (минимальное количество монет)"
   ]
  },
  {
   "cell_type": "code",
   "execution_count": null,
   "id": "400938b2-0602-4dee-8c27-605c942d770a",
   "metadata": {},
   "outputs": [],
   "source": [
    "def min_coins(coins, amount):\n",
    "    dp = [float('inf')] * (amount + 1)\n",
    "    dp[0] = 0\n",
    "    for coin in coins:\n",
    "        for x in range(coin, amount + 1):\n",
    "            dp[x] = min(dp[x], dp[x - coin] + 1)\n",
    "    return dp[amount] if dp[amount] != float('inf') else -1"
   ]
  },
  {
   "cell_type": "markdown",
   "id": "e174be5d-f06e-452a-bf8f-037b6446aa61",
   "metadata": {},
   "source": [
    "# --- Жадные алгоритмы ---"
   ]
  },
  {
   "cell_type": "markdown",
   "id": "da12d88d-c320-47a2-89a6-82b697787f9a",
   "metadata": {},
   "source": [
    "## Задача о рюкзаке с дробными предметами (жадный подход)"
   ]
  },
  {
   "cell_type": "code",
   "execution_count": null,
   "id": "4e070c24-33ec-4ea1-8aee-48cde9db9247",
   "metadata": {},
   "outputs": [],
   "source": [
    "class Item:\n",
    "    def __init__(self, value, weight):\n",
    "        self.value = value\n",
    "        self.weight = weight\n",
    "        self.ratio = value / weight\n",
    "\n",
    "def fractional_knapsack(items, capacity):\n",
    "    items.sort(key=lambda x: x.ratio, reverse=True)\n",
    "    total_value = 0\n",
    "    for item in items:\n",
    "        if capacity >= item.weight:\n",
    "            total_value += item.value\n",
    "            capacity -= item.weight\n",
    "        else:\n",
    "            total_value += item.ratio * capacity\n",
    "            break\n",
    "    return total_value"
   ]
  },
  {
   "cell_type": "markdown",
   "id": "e540e35d-a8de-42b1-893c-70043215fdb8",
   "metadata": {},
   "source": [
    "# Тесты"
   ]
  },
  {
   "cell_type": "code",
   "execution_count": null,
   "id": "58375587-9963-4f81-88cd-0cd97dd0b8db",
   "metadata": {},
   "outputs": [],
   "source": [
    "if __name__ == \"__main__\":\n",
    "    # Наивные методы\n",
    "    assert is_prime_naive(29) == True\n",
    "    assert gcd_naive(48, 18) == 6\n",
    "    assert naive_search('Hello world!', 'world') == 6\n",
    "\n",
    "    # Метод двух указателей\n",
    "    assert two_sum_sorted([1, 2, 4, 7], 9) == (1, 3)\n",
    "    assert is_palindrome('abba') == True\n",
    "\n",
    "    # Метод скользящего окна\n",
    "    assert max_sum_subarray([1, 2, 3, 4, 5], 2) == 9\n",
    "\n",
    "    # Динамическое программирование\n",
    "    assert knapsack([1, 2, 3], [6, 10, 12], 5) == 22\n",
    "    assert min_coins([1, 2, 5], 11) == 3\n",
    "\n",
    "    # Жадные алгоритмы\n",
    "    items = [Item(60, 10), Item(100, 20), Item(120, 30)]\n",
    "    assert fractional_knapsack(items, 50) == 240.0\n",
    "\n",
    "    print(\"Все тесты пройдены!\")"
   ]
  }
 ],
 "metadata": {
  "kernelspec": {
   "display_name": "Python 3 (ipykernel)",
   "language": "python",
   "name": "python3"
  },
  "language_info": {
   "codemirror_mode": {
    "name": "ipython",
    "version": 3
   },
   "file_extension": ".py",
   "mimetype": "text/x-python",
   "name": "python",
   "nbconvert_exporter": "python",
   "pygments_lexer": "ipython3",
   "version": "3.9.13"
  }
 },
 "nbformat": 4,
 "nbformat_minor": 5
}
